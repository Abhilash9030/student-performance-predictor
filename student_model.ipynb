{
 "cells": [
  {
   "cell_type": "code",
   "execution_count": 4,
   "id": "6e2d5f57",
   "metadata": {},
   "outputs": [
    {
     "name": "stdout",
     "output_type": "stream",
     "text": [
      "✅ Models trained and saved using pickle.\n"
     ]
    }
   ],
   "source": [
    "import pandas as pd\n",
    "import numpy as np\n",
    "from sklearn.ensemble import RandomForestClassifier\n",
    "from sklearn.linear_model import LinearRegression\n",
    "from sklearn.model_selection import train_test_split\n",
    "import pickle\n",
    "\n",
    "# Load your data\n",
    "df = pd.read_csv(\"student_data.csv\")\n",
    "\n",
    "# Create a new 'final score' column as average of three subjects\n",
    "df[\"final score\"] = df[[\"math score\", \"reading score\", \"writing score\"]].mean(axis=1)\n",
    "\n",
    "# Create binary 'pass' column: 1 if score >= 40 else 0\n",
    "df[\"pass\"] = df[\"final score\"].apply(lambda x: 1 if x >= 40 else 0)\n",
    "\n",
    "# Features and targets\n",
    "X = df[[\"math score\", \"reading score\", \"writing score\"]]\n",
    "y_class = df[\"pass\"]\n",
    "y_reg = df[\"final score\"]\n",
    "\n",
    "# Split and train\n",
    "X_train, X_test, y_class_train, y_class_test = train_test_split(X, y_class, test_size=0.2)\n",
    "_, _, y_reg_train, y_reg_test = train_test_split(X, y_reg, test_size=0.2)\n",
    "\n",
    "# Train models\n",
    "classifier = RandomForestClassifier()\n",
    "classifier.fit(X_train, y_class_train)\n",
    "\n",
    "regressor = LinearRegression()\n",
    "regressor.fit(X_train, y_reg_train)\n",
    "\n",
    "# Save models with pickle\n",
    "with open(\"classifier.pkl\", \"wb\") as f:\n",
    "    pickle.dump(classifier, f)\n",
    "\n",
    "with open(\"regressor.pkl\", \"wb\") as f:\n",
    "    pickle.dump(regressor, f)\n",
    "\n",
    "print(\"✅ Models trained and saved using pickle.\")\n"
   ]
  }
 ],
 "metadata": {
  "kernelspec": {
   "display_name": "Python 3",
   "language": "python",
   "name": "python3"
  },
  "language_info": {
   "codemirror_mode": {
    "name": "ipython",
    "version": 3
   },
   "file_extension": ".py",
   "mimetype": "text/x-python",
   "name": "python",
   "nbconvert_exporter": "python",
   "pygments_lexer": "ipython3",
   "version": "3.13.3"
  }
 },
 "nbformat": 4,
 "nbformat_minor": 5
}
