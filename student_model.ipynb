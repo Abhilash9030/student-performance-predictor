{
 "cells": [
  {
   "cell_type": "code",
   "execution_count": 1,
   "id": "54f9b53d",
   "metadata": {},
   "outputs": [
    {
     "name": "stdout",
     "output_type": "stream",
     "text": [
      "Classification Report:\n",
      "               precision    recall  f1-score   support\n",
      "\n",
      "           0       1.00      1.00      1.00        11\n",
      "           1       1.00      1.00      1.00       189\n",
      "\n",
      "    accuracy                           1.00       200\n",
      "   macro avg       1.00      1.00      1.00       200\n",
      "weighted avg       1.00      1.00      1.00       200\n",
      "\n",
      "Regression R2 Score: 1.0\n"
     ]
    },
    {
     "data": {
      "text/plain": [
       "['regressor.pkl']"
      ]
     },
     "execution_count": 1,
     "metadata": {},
     "output_type": "execute_result"
    }
   ],
   "source": [
    "# student_model.ipynb\n",
    "\n",
    "import pandas as pd\n",
    "from sklearn.model_selection import train_test_split\n",
    "from sklearn.ensemble import RandomForestClassifier\n",
    "from sklearn.linear_model import LinearRegression\n",
    "from sklearn.metrics import classification_report, r2_score\n",
    "import joblib\n",
    "\n",
    "# Load dataset\n",
    "df = pd.read_csv(\"student_data.csv\")\n",
    "\n",
    "# Rename columns for consistency (if needed)\n",
    "df.rename(columns=lambda x: x.strip().lower().replace(\" \", \"_\"), inplace=True)\n",
    "\n",
    "# Features and labels\n",
    "X = df[['math_score', 'reading_score', 'writing_score']]\n",
    "y_class = (df['math_score'] >= 40).astype(int)  # Classification: Pass = 1, Fail = 0\n",
    "y_reg = df['math_score']                        # Regression target\n",
    "\n",
    "# Split data\n",
    "X_train, X_test, y_train_cls, y_test_cls = train_test_split(X, y_class, test_size=0.2, random_state=42)\n",
    "_, _, y_train_reg, y_test_reg = train_test_split(X, y_reg, test_size=0.2, random_state=42)\n",
    "\n",
    "# Train Classification Model\n",
    "clf = RandomForestClassifier()\n",
    "clf.fit(X_train, y_train_cls)\n",
    "print(\"Classification Report:\\n\", classification_report(y_test_cls, clf.predict(X_test)))\n",
    "\n",
    "# Train Regression Model\n",
    "reg = LinearRegression()\n",
    "reg.fit(X_train, y_train_reg)\n",
    "print(\"Regression R2 Score:\", r2_score(y_test_reg, reg.predict(X_test)))\n",
    "\n",
    "# Save models\n",
    "joblib.dump(clf, 'classifier.pkl')\n",
    "joblib.dump(reg, 'regressor.pkl')\n"
   ]
  }
 ],
 "metadata": {
  "kernelspec": {
   "display_name": "Python 3",
   "language": "python",
   "name": "python3"
  },
  "language_info": {
   "codemirror_mode": {
    "name": "ipython",
    "version": 3
   },
   "file_extension": ".py",
   "mimetype": "text/x-python",
   "name": "python",
   "nbconvert_exporter": "python",
   "pygments_lexer": "ipython3",
   "version": "3.13.3"
  }
 },
 "nbformat": 4,
 "nbformat_minor": 5
}
